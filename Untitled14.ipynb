{
  "nbformat": 4,
  "nbformat_minor": 0,
  "metadata": {
    "colab": {
      "provenance": [],
      "authorship_tag": "ABX9TyOaVkljZ4bKIdvjCXqlVuNr",
      "include_colab_link": true
    },
    "kernelspec": {
      "name": "python3",
      "display_name": "Python 3"
    },
    "language_info": {
      "name": "python"
    }
  },
  "cells": [
    {
      "cell_type": "markdown",
      "metadata": {
        "id": "view-in-github",
        "colab_type": "text"
      },
      "source": [
        "<a href=\"https://colab.research.google.com/github/chaymaaaaa/go-my-code-/blob/main/Untitled14.ipynb\" target=\"_parent\"><img src=\"https://colab.research.google.com/assets/colab-badge.svg\" alt=\"Open In Colab\"/></a>"
      ]
    },
    {
      "cell_type": "code",
      "execution_count": 1,
      "metadata": {
        "colab": {
          "base_uri": "https://localhost:8080/",
          "height": 130
        },
        "id": "5nujVa-4tXtT",
        "outputId": "bcc4bd06-62f2-4133-bb0e-ccabd38c3a47"
      },
      "outputs": [
        {
          "output_type": "error",
          "ename": "SyntaxError",
          "evalue": "ignored",
          "traceback": [
            "\u001b[0;36m  File \u001b[0;32m\"<ipython-input-1-76479711de5b>\"\u001b[0;36m, line \u001b[0;32m11\u001b[0m\n\u001b[0;31m    elif item < midpoint_value:\u001b[0m\n\u001b[0m    ^\u001b[0m\n\u001b[0;31mSyntaxError\u001b[0m\u001b[0;31m:\u001b[0m invalid syntax\n"
          ]
        }
      ],
      "source": [
        "def binary_search(sequence, item):\n",
        "  begin_index = 0\n",
        "  end_index = len(sequence) - 1\n",
        "\n",
        "  while begin_index <= end_index:\n",
        "    midpoint = begin_index + (end_index - begin_index) // 2\n",
        "    midpoint_value = sequence [midpoint]\n",
        "    if midpoint_value == item:\n",
        "      return midpoint\n",
        "\n",
        "      elif item < midpoint_value:\n",
        "        end_index = midpoint - 1\n",
        "\n",
        "        else:\n",
        "          begin_index = midpoint + 1\n",
        "\n",
        "          return None\n",
        "          sequence_a = [1,2,3,5,8]\n",
        "          item_a = 5\n",
        "          print(binary_search(sequence_an item_a))"
      ]
    },
    {
      "cell_type": "code",
      "source": [
        "import numpy as np\n",
        "N = 3\n",
        "X = 4\n",
        "result = np.power(N, X)\n",
        "print(result)"
      ],
      "metadata": {
        "colab": {
          "base_uri": "https://localhost:8080/"
        },
        "id": "oMIIZ3RFw2L9",
        "outputId": "01446e7a-a384-4c74-f61a-b02923263a7f"
      },
      "execution_count": 3,
      "outputs": [
        {
          "output_type": "stream",
          "name": "stdout",
          "text": [
            "81\n"
          ]
        }
      ]
    },
    {
      "cell_type": "code",
      "source": [
        "def bubbleSort(nlist):\n",
        "  for passnum in range (len(nlist)-1,0,1):\n",
        "    for i in range(passnum):\n",
        "      if nlist[i]>nlist[i+1]:\n",
        "        temp = nlist[i]\n",
        "        nlist[i] = nlist[i+1]\n",
        "        nlist[i+1] = temp\n",
        "        return nlist\n",
        "        nlist [29,13,22,37,52,49,46,71,56]\n",
        "        bubbleSort(nlist)"
      ],
      "metadata": {
        "id": "2F1qhNt_yo7w"
      },
      "execution_count": 8,
      "outputs": []
    },
    {
      "cell_type": "code",
      "source": [
        "def mergeSort(myList):\n",
        "  if len(myList)>1 :\n",
        "    mid = len(myList) // 2\n",
        "    left = myList[:mid]\n",
        "    right = myList[mid:]\n",
        "    mergeSort(left)\n",
        "    mergeSort(right)\n",
        "    i=0\n",
        "    j=0\n",
        "    k=0\n",
        "     while i < len(left) and j < len(right)\n",
        "      if left[i] < right[j]:\n",
        "        myList[k] = left[i]\n",
        "         i += 1\n",
        "            else:\n",
        "                myList[k] = right[j]\n",
        "                j += 1\n",
        "                 i += 1\n",
        "            else:\n",
        "                myList[k] = right[j]\n",
        "                j += 1\n",
        "                 i += 1\n",
        "            else:\n",
        "                myList[k] = right[j]\n",
        "                j += 1"
      ],
      "metadata": {
        "colab": {
          "base_uri": "https://localhost:8080/",
          "height": 130
        },
        "id": "49OJAyW_1q0H",
        "outputId": "4416071c-223a-41d0-9cc2-bae4e300436c"
      },
      "execution_count": 9,
      "outputs": [
        {
          "output_type": "error",
          "ename": "IndentationError",
          "evalue": "ignored",
          "traceback": [
            "\u001b[0;36m  File \u001b[0;32m\"<ipython-input-9-c9095bf7a737>\"\u001b[0;36m, line \u001b[0;32m11\u001b[0m\n\u001b[0;31m    while i < len(left) and j < len(right)\u001b[0m\n\u001b[0m    ^\u001b[0m\n\u001b[0;31mIndentationError\u001b[0m\u001b[0;31m:\u001b[0m unexpected indent\n"
          ]
        }
      ]
    },
    {
      "cell_type": "code",
      "source": [
        "def partition(array, start, end):\n",
        "    pivot = array[start]\n",
        "    low = start + 1\n",
        "    high = end\n",
        "    while True:\n",
        "      while low <= high and array[high] >= pivot:\n",
        "            high = high - 1\n",
        "            while low <= high and array[low] <= pivot:\n",
        "            low = low + 1\n",
        "             if low <= high:\n",
        "            array[low], array[high] = array[high], array[low]\n",
        "                    else:\n",
        "                       break\n",
        "                       array[start], array[high] = array[high], array[start]\n",
        "\n",
        "    return high\n"
      ],
      "metadata": {
        "colab": {
          "base_uri": "https://localhost:8080/",
          "height": 130
        },
        "id": "tbYuUlj73JoR",
        "outputId": "0aa55dfc-1995-4a19-8247-b6ebbd84cfde"
      },
      "execution_count": 10,
      "outputs": [
        {
          "output_type": "error",
          "ename": "IndentationError",
          "evalue": "ignored",
          "traceback": [
            "\u001b[0;36m  File \u001b[0;32m\"<ipython-input-10-e5cfe2acac83>\"\u001b[0;36m, line \u001b[0;32m9\u001b[0m\n\u001b[0;31m    low = low + 1\u001b[0m\n\u001b[0m    ^\u001b[0m\n\u001b[0;31mIndentationError\u001b[0m\u001b[0;31m:\u001b[0m expected an indented block after 'while' statement on line 8\n"
          ]
        }
      ]
    }
  ]
}