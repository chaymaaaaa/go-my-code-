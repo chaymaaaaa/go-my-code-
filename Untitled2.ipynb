{
  "nbformat": 4,
  "nbformat_minor": 0,
  "metadata": {
    "colab": {
      "provenance": [],
      "authorship_tag": "ABX9TyP9QsQSU+AGeme6CQJMfFLZ",
      "include_colab_link": true
    },
    "kernelspec": {
      "name": "python3",
      "display_name": "Python 3"
    },
    "language_info": {
      "name": "python"
    }
  },
  "cells": [
    {
      "cell_type": "markdown",
      "metadata": {
        "id": "view-in-github",
        "colab_type": "text"
      },
      "source": [
        "<a href=\"https://colab.research.google.com/github/chaymaaaaa/go-my-code-/blob/main/Untitled2.ipynb\" target=\"_parent\"><img src=\"https://colab.research.google.com/assets/colab-badge.svg\" alt=\"Open In Colab\"/></a>"
      ]
    },
    {
      "cell_type": "code",
      "execution_count": 1,
      "metadata": {
        "id": "pQSpdmOfrLWm",
        "colab": {
          "base_uri": "https://localhost:8080/"
        },
        "outputId": "c6559ca8-a0f8-4184-9e91-2d5ba7316b22"
      },
      "outputs": [
        {
          "output_type": "stream",
          "name": "stdout",
          "text": [
            "2\n",
            "6\n",
            "36\n"
          ]
        }
      ],
      "source": [
        "item=[2,3,6]\n",
        "total=1\n",
        "for i in item:\n",
        "  total *= i\n",
        "  print(total)"
      ]
    },
    {
      "cell_type": "code",
      "source": [
        "def last(n):\n",
        "  return n[-1]\n",
        "  def sort(tuples):\n",
        "    return sorted(tuples,key=last)\n"
      ],
      "metadata": {
        "id": "Gsk6Og6wwZph"
      },
      "execution_count": 2,
      "outputs": []
    },
    {
      "cell_type": "code",
      "source": [
        "d1={'a':100,'b':200,'c':300}\n",
        "d2={'a':300,'b':200,'d':400}\n",
        "for key in d2:\n",
        "  if key in d1:\n",
        "    d2[key]=d1[key]+d2[key]\n",
        "  else:\n",
        "      pass\n",
        "      print(d2)"
      ],
      "metadata": {
        "colab": {
          "base_uri": "https://localhost:8080/"
        },
        "id": "6N2CHi7aoAaF",
        "outputId": "01863cae-80ae-40ec-e94a-5b13042379b6"
      },
      "execution_count": 8,
      "outputs": [
        {
          "output_type": "stream",
          "name": "stdout",
          "text": [
            "{'a': 400, 'b': 400, 'd': 400}\n"
          ]
        }
      ]
    },
    {
      "cell_type": "code",
      "source": [
        "n=int(input(\"Enter a number\"))\n",
        "squares={i : i*i for i in range(1,n+1)}\n",
        "print(squares)"
      ],
      "metadata": {
        "colab": {
          "base_uri": "https://localhost:8080/"
        },
        "id": "Myw8N9EPrIQY",
        "outputId": "8ca5e49c-7afe-420d-f8de-a1f5b89056a5"
      },
      "execution_count": 9,
      "outputs": [
        {
          "output_type": "stream",
          "name": "stdout",
          "text": [
            "Enter a number8\n",
            "{1: 1, 2: 4, 3: 9, 4: 16, 5: 25, 6: 36, 7: 49, 8: 64}\n"
          ]
        }
      ]
    },
    {
      "cell_type": "code",
      "source": [
        "s1={'0','1','2','3','4'}\n",
        "print(s1)\n",
        "for val in s1:\n",
        "  print(val)\n",
        "  s1.add('5')\n",
        "  print('add element:' ,s1)\n",
        "   s1.pop()\n",
        "  print('after removing the first element from the set')\n",
        "  print (s1)\n"
      ],
      "metadata": {
        "id": "8f6M_ZdIrG66",
        "colab": {
          "base_uri": "https://localhost:8080/",
          "height": 130
        },
        "outputId": "2756f160-9b8d-4733-ca98-ace53e0960b4"
      },
      "execution_count": 22,
      "outputs": [
        {
          "output_type": "error",
          "ename": "IndentationError",
          "evalue": "ignored",
          "traceback": [
            "\u001b[0;36m  File \u001b[0;32m\"<ipython-input-22-797607140f1c>\"\u001b[0;36m, line \u001b[0;32m7\u001b[0m\n\u001b[0;31m    s1.pop()\u001b[0m\n\u001b[0m    ^\u001b[0m\n\u001b[0;31mIndentationError\u001b[0m\u001b[0;31m:\u001b[0m unexpected indent\n"
          ]
        }
      ]
    },
    {
      "cell_type": "code",
      "source": [],
      "metadata": {
        "id": "yAwGDxi8z9Vf"
      },
      "execution_count": null,
      "outputs": []
    }
  ]
}