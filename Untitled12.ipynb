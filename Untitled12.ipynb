{
  "nbformat": 4,
  "nbformat_minor": 0,
  "metadata": {
    "colab": {
      "provenance": [],
      "authorship_tag": "ABX9TyPbacdDbSl9bpxuffDwirKL",
      "include_colab_link": true
    },
    "kernelspec": {
      "name": "python3",
      "display_name": "Python 3"
    },
    "language_info": {
      "name": "python"
    }
  },
  "cells": [
    {
      "cell_type": "markdown",
      "metadata": {
        "id": "view-in-github",
        "colab_type": "text"
      },
      "source": [
        "<a href=\"https://colab.research.google.com/github/chaymaaaaa/go-my-code-/blob/main/Untitled12.ipynb\" target=\"_parent\"><img src=\"https://colab.research.google.com/assets/colab-badge.svg\" alt=\"Open In Colab\"/></a>"
      ]
    },
    {
      "cell_type": "code",
      "execution_count": null,
      "metadata": {
        "id": "7VEGPH78IjCY"
      },
      "outputs": [],
      "source": [
        "file = open(\"file.txt\", \"r\")\n",
        "data = file.read()\n",
        "print(data)"
      ]
    },
    {
      "cell_type": "code",
      "source": [
        "n = int(input(\"/n/Enter lines to read : \"))\n",
        "f = open(\"file.txt\" , \"r\")\n",
        "for i in range(n):\n",
        "  print(f.readline())\n",
        ""
      ],
      "metadata": {
        "id": "cQv09vrZJgvA"
      },
      "execution_count": null,
      "outputs": []
    },
    {
      "cell_type": "code",
      "source": [],
      "metadata": {
        "id": "TKwBIqbgWb-w"
      },
      "execution_count": null,
      "outputs": []
    },
    {
      "cell_type": "code",
      "source": [
        "file = open(\"/n/data.txt\" , \"rt\")\n",
        "data = file.read()\n",
        "words = data.split()\n",
        "print('Number of words in text file :' , len(words))"
      ],
      "metadata": {
        "id": "xi6j5PSQXnKS"
      },
      "execution_count": null,
      "outputs": []
    }
  ]
}