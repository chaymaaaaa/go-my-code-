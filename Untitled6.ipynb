{
  "nbformat": 4,
  "nbformat_minor": 0,
  "metadata": {
    "colab": {
      "provenance": [],
      "authorship_tag": "ABX9TyNoNwWwZd85ANXiXxcLYA2I",
      "include_colab_link": true
    },
    "kernelspec": {
      "name": "python3",
      "display_name": "Python 3"
    },
    "language_info": {
      "name": "python"
    }
  },
  "cells": [
    {
      "cell_type": "markdown",
      "metadata": {
        "id": "view-in-github",
        "colab_type": "text"
      },
      "source": [
        "<a href=\"https://colab.research.google.com/github/chaymaaaaa/go-my-code-/blob/main/Untitled6.ipynb\" target=\"_parent\"><img src=\"https://colab.research.google.com/assets/colab-badge.svg\" alt=\"Open In Colab\"/></a>"
      ]
    },
    {
      "cell_type": "code",
      "execution_count": null,
      "metadata": {
        "id": "zKpXb13rh1og"
      },
      "outputs": [],
      "source": [
        "import numpy as np\n",
        "def number():\n",
        "  num_students = int(input(\"Enter the number of students: \"))\n",
        "  num_subjects = int(input(\"Enter the number of subjects: \"))\n",
        "\n",
        "  marks_array = np.zeros((num_students, num_subjects))\n",
        "  for i in range(num_students):\n",
        "    print(Enter marks for student)\n",
        "    for j in rnage (num_subjects):\n",
        "      marks = float(input()\n",
        "marks_array[i,j] = marks\n",
        " total_marks_array = np.sum(marks_array, axis=1)\n",
        " percentage_array = (total_marks_array / (num_subjects * 100)) * 100\n",
        "\n",
        "  def calculate_grade(percentage):\n",
        "    if percentage >= 90:\n",
        "      return 'A+'\n",
        "    elif percentage >= 80:\n",
        "     return 'A'\n",
        "  elif percentage >= 70:\n",
        "    return 'B+'\n",
        "    elif percentage >= 60:\n",
        "    return 'B'\n",
        "elif percentage >=50:\n",
        "  return 'C'\n",
        "  else:\n",
        "    return 'F'\n",
        "\n",
        "\n",
        "\n",
        ""
      ]
    }
  ]
}