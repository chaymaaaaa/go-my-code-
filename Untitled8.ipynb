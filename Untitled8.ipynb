{
  "nbformat": 4,
  "nbformat_minor": 0,
  "metadata": {
    "colab": {
      "provenance": [],
      "authorship_tag": "ABX9TyMtWKYNeWGy5YhjCn+sJTme",
      "include_colab_link": true
    },
    "kernelspec": {
      "name": "python3",
      "display_name": "Python 3"
    },
    "language_info": {
      "name": "python"
    }
  },
  "cells": [
    {
      "cell_type": "markdown",
      "metadata": {
        "id": "view-in-github",
        "colab_type": "text"
      },
      "source": [
        "<a href=\"https://colab.research.google.com/github/chaymaaaaa/go-my-code-/blob/main/Untitled8.ipynb\" target=\"_parent\"><img src=\"https://colab.research.google.com/assets/colab-badge.svg\" alt=\"Open In Colab\"/></a>"
      ]
    },
    {
      "cell_type": "code",
      "execution_count": 2,
      "metadata": {
        "colab": {
          "base_uri": "https://localhost:8080/",
          "height": 130
        },
        "id": "YrRdvAty5UPw",
        "outputId": "4ca0cb93-c82b-435f-d3fe-aba97bef1af0"
      },
      "outputs": [
        {
          "output_type": "error",
          "ename": "IndentationError",
          "evalue": "ignored",
          "traceback": [
            "\u001b[0;36m  File \u001b[0;32m\"<ipython-input-2-9e47a3f18224>\"\u001b[0;36m, line \u001b[0;32m7\u001b[0m\n\u001b[0;31m    labels = ['a', 'b', 'c', 'd', 'e', 'f', 'g', 'h', 'i', 'j']\u001b[0m\n\u001b[0m    ^\u001b[0m\n\u001b[0;31mIndentationError\u001b[0m\u001b[0;31m:\u001b[0m unexpected indent\n"
          ]
        }
      ],
      "source": [
        "import pandas as pd\n",
        "import numpy as np\n",
        "exam_data = { 'name' : ['Anastasia', 'Dima', 'Katherine', 'James', 'Emily', 'Micheal', 'Mathew', 'Laura', 'Kevin', 'Jonas'],\n",
        "              'score': [12.5, 9, 16.5, np.nan, 9, 20, 14.5, np.nan, 8, 19],\n",
        "              'attempts': [1, 3, 2, 3, 2, 3, 1, 1, 2, 1],\n",
        "              'qualify' : ['yes', 'no', 'yes', 'no', 'no', 'yes', 'yes', 'no', 'no', 'yes']}\n",
        " labels = ['a', 'b', 'c', 'd', 'e', 'f', 'g', 'h', 'i', 'j']\n",
        " df = pd.DataFrame(exam_data, index=labels)\n",
        " print(\"First three rows:\")\n",
        " print(df.head(3))\n",
        " df.dropna(inplace=True)\n",
        " name_score_df = df[['name', 'score']]\n",
        " new_row = pd.Series({'name': 'Suresh', 'score': 15.5, 'attempts': 1, 'qualify': 'yes'}, name='k')\n",
        "df = df.append(new_row)\n",
        "df.drop('attempts', axis=1, inplace=True)\n",
        "df['Success'] = df['Score'].apply(if x>10 x:1 else 0)\n",
        "df.to_csv('my_data.csv')\n",
        "print(df)\n",
        "\n"
      ]
    }
  ]
}