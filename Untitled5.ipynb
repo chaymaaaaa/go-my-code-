{
  "nbformat": 4,
  "nbformat_minor": 0,
  "metadata": {
    "colab": {
      "provenance": [],
      "authorship_tag": "ABX9TyMclvwSR40XxPeV3Pv8Y+hZ",
      "include_colab_link": true
    },
    "kernelspec": {
      "name": "python3",
      "display_name": "Python 3"
    },
    "language_info": {
      "name": "python"
    }
  },
  "cells": [
    {
      "cell_type": "markdown",
      "metadata": {
        "id": "view-in-github",
        "colab_type": "text"
      },
      "source": [
        "<a href=\"https://colab.research.google.com/github/chaymaaaaa/go-my-code-/blob/main/Untitled5.ipynb\" target=\"_parent\"><img src=\"https://colab.research.google.com/assets/colab-badge.svg\" alt=\"Open In Colab\"/></a>"
      ]
    },
    {
      "cell_type": "code",
      "execution_count": 9,
      "metadata": {
        "id": "djJl4TMnrjen",
        "colab": {
          "base_uri": "https://localhost:8080/",
          "height": 339
        },
        "outputId": "6fa87718-eea8-4505-bede-16765f09d250"
      },
      "outputs": [
        {
          "output_type": "error",
          "ename": "NameError",
          "evalue": "ignored",
          "traceback": [
            "\u001b[0;31m---------------------------------------------------------------------------\u001b[0m",
            "\u001b[0;31mNameError\u001b[0m                                 Traceback (most recent call last)",
            "\u001b[0;32m<ipython-input-9-8c99586854fb>\u001b[0m in \u001b[0;36m<cell line: 1>\u001b[0;34m()\u001b[0m\n\u001b[0;32m----> 1\u001b[0;31m \u001b[0;32mclass\u001b[0m \u001b[0mPoint3D\u001b[0m\u001b[0;34m:\u001b[0m\u001b[0;34m\u001b[0m\u001b[0;34m\u001b[0m\u001b[0m\n\u001b[0m\u001b[1;32m      2\u001b[0m   \u001b[0;32mdef\u001b[0m \u001b[0m_init_\u001b[0m\u001b[0;34m(\u001b[0m\u001b[0mself\u001b[0m\u001b[0;34m,\u001b[0m \u001b[0mx\u001b[0m\u001b[0;34m,\u001b[0m \u001b[0my\u001b[0m\u001b[0;34m,\u001b[0m \u001b[0mz\u001b[0m\u001b[0;34m)\u001b[0m\u001b[0;34m:\u001b[0m\u001b[0;34m\u001b[0m\u001b[0;34m\u001b[0m\u001b[0m\n\u001b[1;32m      3\u001b[0m     \u001b[0mself\u001b[0m\u001b[0;34m.\u001b[0m\u001b[0mx\u001b[0m\u001b[0;34m=\u001b[0m\u001b[0mx\u001b[0m\u001b[0;34m\u001b[0m\u001b[0;34m\u001b[0m\u001b[0m\n\u001b[1;32m      4\u001b[0m     \u001b[0mself\u001b[0m\u001b[0;34m.\u001b[0m\u001b[0my\u001b[0m\u001b[0;34m=\u001b[0m\u001b[0my\u001b[0m\u001b[0;34m\u001b[0m\u001b[0;34m\u001b[0m\u001b[0m\n\u001b[1;32m      5\u001b[0m     \u001b[0mself\u001b[0m\u001b[0;34m.\u001b[0m\u001b[0mz\u001b[0m\u001b[0;34m=\u001b[0m\u001b[0mz\u001b[0m\u001b[0;34m\u001b[0m\u001b[0;34m\u001b[0m\u001b[0m\n",
            "\u001b[0;32m<ipython-input-9-8c99586854fb>\u001b[0m in \u001b[0;36mPoint3D\u001b[0;34m()\u001b[0m\n\u001b[1;32m      5\u001b[0m     \u001b[0mself\u001b[0m\u001b[0;34m.\u001b[0m\u001b[0mz\u001b[0m\u001b[0;34m=\u001b[0m\u001b[0mz\u001b[0m\u001b[0;34m\u001b[0m\u001b[0;34m\u001b[0m\u001b[0m\n\u001b[1;32m      6\u001b[0m     \u001b[0mmy_point\u001b[0m\u001b[0;34m=\u001b[0m\u001b[0mPoint3D\u001b[0m\u001b[0;34m(\u001b[0m\u001b[0;36m1\u001b[0m\u001b[0;34m,\u001b[0m\u001b[0;36m2\u001b[0m\u001b[0;34m,\u001b[0m\u001b[0;36m3\u001b[0m\u001b[0;34m)\u001b[0m\u001b[0;34m\u001b[0m\u001b[0;34m\u001b[0m\u001b[0m\n\u001b[0;32m----> 7\u001b[0;31m   \u001b[0mprint\u001b[0m \u001b[0;34m(\u001b[0m\u001b[0mmy_point\u001b[0m\u001b[0;34m)\u001b[0m\u001b[0;34m\u001b[0m\u001b[0;34m\u001b[0m\u001b[0m\n\u001b[0m\u001b[1;32m      8\u001b[0m \u001b[0;34m\u001b[0m\u001b[0m\n",
            "\u001b[0;31mNameError\u001b[0m: name 'my_point' is not defined"
          ]
        }
      ],
      "source": [
        "class Point3D:\n",
        "  def _init_(self, x, y, z):\n",
        "    self.x=x\n",
        "    self.y=y\n",
        "    self.z=z\n",
        "    my_point=Point3D(1,2,3)\n",
        "  print (my_point)\n",
        "\n"
      ]
    },
    {
      "cell_type": "code",
      "source": [
        "class Rectangle:\n",
        "def __init__(self, length, width):\n",
        "  self.length=length\n",
        "  self.width=width\n",
        "  def area(self):\n",
        "    return self.width*self.length\n",
        "  def perimeter(self):\n",
        "    return (self.width+self.length)*2\n",
        "my_rectangle= Rectangle(length=4, width=3)\n",
        "area_result = my_rectangle.area()\n",
        "perimeter_result = my_rectangle.perimeter()\n",
        "print (\"area :\", area_result)\n",
        "print (\"perimeter:\", perimeter_result)\n"
      ],
      "metadata": {
        "colab": {
          "base_uri": "https://localhost:8080/",
          "height": 130
        },
        "id": "pLZ1L-d9OEMM",
        "outputId": "7e67807a-0cd6-4818-8d80-614988149170"
      },
      "execution_count": 10,
      "outputs": [
        {
          "output_type": "error",
          "ename": "IndentationError",
          "evalue": "ignored",
          "traceback": [
            "\u001b[0;36m  File \u001b[0;32m\"<ipython-input-10-4642e6d14c5c>\"\u001b[0;36m, line \u001b[0;32m2\u001b[0m\n\u001b[0;31m    def __init__(self, length, width):\u001b[0m\n\u001b[0m    ^\u001b[0m\n\u001b[0;31mIndentationError\u001b[0m\u001b[0;31m:\u001b[0m expected an indented block after class definition on line 1\n"
          ]
        }
      ]
    },
    {
      "cell_type": "code",
      "source": [
        "class Circle:\n",
        "def __init__(self, center, radius)\n",
        "self.center=center\n",
        "self.radius=radius\n",
        "def area(self):\n",
        "  return math.pi * self.radius**2\n",
        "  def perimeter(self):\n",
        "    return 2 * math.pi * self.radius\n",
        "    def is_inside(self, x, y)\n",
        "\n",
        "\n",
        "my_circle = Circle(center_x, radius)\n",
        "area_result = my_circle.area()\n",
        "perimeter_result = my_circle.perimeter()\n",
        "\n",
        "\n",
        "print (\"area:\", area_result)\n",
        "print(\"Perimeter:\", perimeter_result )\n"
      ],
      "metadata": {
        "id": "ZtqLo54FVUww"
      },
      "execution_count": null,
      "outputs": []
    },
    {
      "cell_type": "code",
      "source": [
        "class Bank:\n",
        "  def __init__(self,balance)\n",
        "  self.balance = balance\n",
        "  def deposit(self, amount):\n",
        "    self.balance += amount\n",
        "    return self.balance\n",
        "    def withdraw(self , amount):\n",
        "      if self.balance>=amount:\n",
        "        self.balance-=amount\n",
        "        print(\"You withdraw: \",amount)\n",
        "        else:\n",
        "          print(\"insufficient balance \")\n",
        "          def\n",
        "\n",
        "\n",
        "\n",
        ""
      ],
      "metadata": {
        "id": "nJqU4erDjBq9"
      },
      "execution_count": null,
      "outputs": []
    }
  ]
}