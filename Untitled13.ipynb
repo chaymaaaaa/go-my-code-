{
  "nbformat": 4,
  "nbformat_minor": 0,
  "metadata": {
    "colab": {
      "provenance": [],
      "authorship_tag": "ABX9TyM77/AQRidjhWJYhkPqodaB",
      "include_colab_link": true
    },
    "kernelspec": {
      "name": "python3",
      "display_name": "Python 3"
    },
    "language_info": {
      "name": "python"
    }
  },
  "cells": [
    {
      "cell_type": "markdown",
      "metadata": {
        "id": "view-in-github",
        "colab_type": "text"
      },
      "source": [
        "<a href=\"https://colab.research.google.com/github/chaymaaaaa/go-my-code-/blob/main/Untitled13.ipynb\" target=\"_parent\"><img src=\"https://colab.research.google.com/assets/colab-badge.svg\" alt=\"Open In Colab\"/></a>"
      ]
    },
    {
      "cell_type": "code",
      "execution_count": null,
      "metadata": {
        "id": "YUrJWq3-iymG"
      },
      "outputs": [],
      "source": [
        "import requests\n",
        "import string\n",
        "from bs4 import BeautifulSoup\n",
        "\n",
        "Enter_input = input(\"Search: \")\n",
        "u_i = string.capwords(Enter_input)\n",
        "lists = u_i.split()\n",
        "word = \"_\".join(lists)\n",
        "\n",
        "url = 'https://fr.wikipedia.org/wiki/Wikip%C3%A9dia:Accueil_principal'\n",
        "def get_parse_wikipedia_page(url):\n",
        "  response = requests.get(url)\n",
        "  response.raise_for_status()\n",
        "  soup = BeautifulSoup(response.text, \"html.parser\")\n",
        "\n",
        "  def extract_article_title(url):\n",
        "    parsed_page = get_parse_wikipedia_page(url)\n",
        "    if parsed_page:\n",
        "      title_element = parsed_page.find(\"h1\" , {\"class\": \"firstHeading\"})\n",
        "if title_element:\n",
        "  return title_element.get_text()\n",
        "\n",
        "\n",
        "  def collect_redirect_links(url):\n",
        "    redirect_links = []\n",
        "    parsed_page = get_parse_wikipedia(url)\n",
        "    if parsed page:\n",
        "      all_links = parsed_page.find_all(\"a\" , )\n",
        "      for link in all_links:\n",
        "        href = link[\"href\"]\n",
        "        if href.startswitch(\"/wiki/\") and not href.startswitch(\"/wiki/file\"):\n",
        "          redirect_links.append(href)\n",
        "          return redirect_links\n",
        ""
      ]
    }
  ]
}