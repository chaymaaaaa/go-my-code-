{
  "nbformat": 4,
  "nbformat_minor": 0,
  "metadata": {
    "colab": {
      "provenance": [],
      "authorship_tag": "ABX9TyNfNJBFBAe4gcIVqNESQbdu",
      "include_colab_link": true
    },
    "kernelspec": {
      "name": "python3",
      "display_name": "Python 3"
    },
    "language_info": {
      "name": "python"
    }
  },
  "cells": [
    {
      "cell_type": "markdown",
      "metadata": {
        "id": "view-in-github",
        "colab_type": "text"
      },
      "source": [
        "<a href=\"https://colab.research.google.com/github/chaymaaaaa/go-my-code-/blob/main/Untitled1.ipynb\" target=\"_parent\"><img src=\"https://colab.research.google.com/assets/colab-badge.svg\" alt=\"Open In Colab\"/></a>"
      ]
    },
    {
      "cell_type": "code",
      "execution_count": null,
      "metadata": {
        "colab": {
          "base_uri": "https://localhost:8080/",
          "height": 130
        },
        "id": "oacINHdB56XF",
        "outputId": "fddb9f45-db03-45ea-9121-7123b89254e5"
      },
      "outputs": [
        {
          "output_type": "error",
          "ename": "SyntaxError",
          "evalue": "ignored",
          "traceback": [
            "\u001b[0;36m  File \u001b[0;32m\"<ipython-input-5-f2f929c4dd77>\"\u001b[0;36m, line \u001b[0;32m1\u001b[0m\n\u001b[0;31m    def guess_the_number:\u001b[0m\n\u001b[0m                        ^\u001b[0m\n\u001b[0;31mSyntaxError\u001b[0m\u001b[0;31m:\u001b[0m invalid syntax\n"
          ]
        }
      ],
      "source": [
        "def guess_the_number:\n",
        "import random\n",
        "number=random.randint(1,100)\n",
        "print(\"welcome to Guess the Number!\")\n",
        "print(\"Im thinking of a number between a and 100\")\n",
        "if guess< number:\n",
        "  print(\"too low\")\n",
        "  elif guess>number:\n",
        "    print(\"too high\")\n",
        "    else:\n",
        "      print(\"congratulations!You guessed the number correctly!\")"
      ]
    }
  ]
}