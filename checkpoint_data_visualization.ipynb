{
  "nbformat": 4,
  "nbformat_minor": 0,
  "metadata": {
    "colab": {
      "provenance": [],
      "authorship_tag": "ABX9TyPPTBqPQGLtc+y3gbLoPgG6",
      "include_colab_link": true
    },
    "kernelspec": {
      "name": "python3",
      "display_name": "Python 3"
    },
    "language_info": {
      "name": "python"
    }
  },
  "cells": [
    {
      "cell_type": "markdown",
      "metadata": {
        "id": "view-in-github",
        "colab_type": "text"
      },
      "source": [
        "<a href=\"https://colab.research.google.com/github/chaymaaaaa/go-my-code-/blob/main/checkpoint_data_visualization.ipynb\" target=\"_parent\"><img src=\"https://colab.research.google.com/assets/colab-badge.svg\" alt=\"Open In Colab\"/></a>"
      ]
    },
    {
      "cell_type": "markdown",
      "source": [
        "1-\n",
        "Load the dataset into a data frame using Python"
      ],
      "metadata": {
        "id": "0jObyv_RMiNL"
      }
    },
    {
      "cell_type": "code",
      "execution_count": null,
      "metadata": {
        "id": "rBy8ycAnJMfE"
      },
      "outputs": [],
      "source": [
        "import pandas as pd\n",
        "df=pd.read_csv(\"//Video games.csv\")\n",
        "df.head()\n"
      ]
    },
    {
      "cell_type": "markdown",
      "source": [
        "3-Create an area chart to show the trend of global sales over the years."
      ],
      "metadata": {
        "id": "rZVUsXMDM33h"
      }
    },
    {
      "cell_type": "code",
      "source": [
        "import plotly.express as px\n",
        "import pandas as pd\n",
        "\n",
        "df = pd.read_csv(\"/Video games.csv\")\n",
        "df = df.set_index(\"Year\").stack().reset_index().rename(columns={\"level_1\":\"Global_Sales\", 0:\"Value\"})\n",
        "fig = px.area(df, x='Year', y='Value', color='Global_Sales')\n",
        "fig.show()"
      ],
      "metadata": {
        "id": "UXwfxdN22kql"
      },
      "execution_count": null,
      "outputs": []
    },
    {
      "cell_type": "markdown",
      "source": [
        "4-Create a histogram to show the distribution of global sales. (using matplotlib)"
      ],
      "metadata": {
        "id": "rkK3pKiXNA4L"
      }
    },
    {
      "cell_type": "code",
      "source": [
        "\n",
        "import pandas as pd\n",
        "import matplotlib.pyplot as plt\n",
        "df = pd.read_csv(\"/Video games.csv\")\n",
        "global_sales = df['Global_Sales']\n",
        "plt.hist(global_sales, bins=20, edgecolor='black')\n",
        "plt.title('Distribution of Global Sales')\n",
        "plt.xlabel('Global Sales (in millions)')\n",
        "plt.ylabel('frequency')\n",
        "plt.show()\n"
      ],
      "metadata": {
        "id": "wptxCTxO5wS5"
      },
      "execution_count": null,
      "outputs": []
    },
    {
      "cell_type": "markdown",
      "source": [
        "4-Create a histogram to show the distribution of global sales. (using plotly)"
      ],
      "metadata": {
        "id": "ldCz77M4Nmpt"
      }
    },
    {
      "cell_type": "code",
      "source": [
        "import plotly.express as px\n",
        "import pandas as pd\n",
        "data = pd.read_csv(\"/Video games.csv\")\n",
        "fig = px.histogram(data, x='Global_Sales', nbins=20)\n",
        "fig.show()"
      ],
      "metadata": {
        "id": "QpGOA2Bn-k0L"
      },
      "execution_count": null,
      "outputs": []
    },
    {
      "cell_type": "markdown",
      "source": [
        "5-Create a scatter plot to show the relationship between North American sales and European sales.\n"
      ],
      "metadata": {
        "id": "4SVSYfk8Nf1U"
      }
    },
    {
      "cell_type": "code",
      "source": [
        "import pandas as pd\n",
        "import matplotlib.pyplot as plt\n",
        "df = pd.read_csv('/Video games.csv')\n",
        "na_sales = df['NA_Sales']\n",
        "eu_sales = df['EU_Sales']\n",
        "plt.figure(figsize=(8, 6))\n",
        "plt.scatter(na_sales, eu_sales, alpha=0.5)\n",
        "plt.title('Relationship Between NA Sales and EU Sales')\n",
        "plt.xlabel('NA Sales (in millions)')\n",
        "plt.ylabel('EU Sales (in millions)')\n",
        "plt.grid(True)\n",
        "plt.tight_layout()\n",
        "plt.show()\n"
      ],
      "metadata": {
        "id": "cy64bv-3LnU_"
      },
      "execution_count": null,
      "outputs": []
    },
    {
      "cell_type": "markdown",
      "source": [
        "6-Create a scatter plot to show the relationship between Japanese sales and Other sales."
      ],
      "metadata": {
        "id": "_rzH1JxmOmBL"
      }
    },
    {
      "cell_type": "code",
      "source": [
        "import pandas as pd\n",
        "import matplotlib.pyplot as plt\n",
        "df = pd.read_csv('/Video games.csv')\n",
        "na_sales = df['JP_Sales']\n",
        "eu_sales = df['Other_Sales']\n",
        "plt.figure(figsize=(8, 6))\n",
        "plt.scatter(na_sales, eu_sales, alpha=0.5)\n",
        "plt.title('Relationship Between JP Sales and Other Sales')\n",
        "plt.xlabel('JP Sales (in millions)')\n",
        "plt.ylabel('Other Sales (in millions)')\n",
        "plt.grid(True)\n",
        "plt.tight_layout()\n",
        "plt.show()\n"
      ],
      "metadata": {
        "id": "7BVu3rU-OLWl"
      },
      "execution_count": null,
      "outputs": []
    },
    {
      "cell_type": "markdown",
      "source": [
        "7-Create a stacked area chart to show the distribution of sales by platform over the years.\n"
      ],
      "metadata": {
        "id": "1cKKb3DbJ-Kn"
      }
    },
    {
      "cell_type": "code",
      "source": [
        "import plotly.express as px\n",
        "import pandas as pd\n",
        "df = pd.read_csv(\"/Video games.csv\")\n",
        "df = df.set_index(\"Year\").stack().reset_index().rename(columns={\"level_1\":\"platform\", 0:\"Value\"})\n",
        "fig = px.area(df, x='Year', y='Value', color='platform')\n",
        "fig.show()"
      ],
      "metadata": {
        "id": "lvmMn7YIJJQz"
      },
      "execution_count": null,
      "outputs": []
    },
    {
      "cell_type": "markdown",
      "source": [
        "8-Create a bar chart to show the top 10 publishers by global sales.\n"
      ],
      "metadata": {
        "id": "YnO95bB6Ll36"
      }
    },
    {
      "cell_type": "code",
      "source": [
        "import plotly.express as px\n",
        "import pandas as pd\n",
        "df = pd.read_csv(\"/Video games.csv\")\n",
        "fig = px.bar(df, x=\" Publisher\", y=\"Global_Sales\", color=\"Global_Sales\", height=400)\n",
        "fig.update_layout(title_text=\"top 10 publishers by global sales.\", xaxis_title=\"Publisher\", yaxis_title=\"Global_Sales\")\n",
        "fig.update_traces(marker=dict(color='red', opacity=0.5, line=dict(color='red', width=2)))\n",
        "fig.update_layout(coloraxis_colorbar=dict(title=\"Global_Sales\"))\n",
        "fig.show()\n"
      ],
      "metadata": {
        "id": "a-pw9dlwLjeW"
      },
      "execution_count": null,
      "outputs": []
    },
    {
      "cell_type": "markdown",
      "source": [
        "9-Create a pie chart to show the distribution of genres by global sales."
      ],
      "metadata": {
        "id": "eB7L7hP9Wgr4"
      }
    },
    {
      "cell_type": "code",
      "source": [
        "import plotly.express as px\n",
        "import pandas as pd\n",
        "df = pd.read_csv(\"/Video games.csv\")\n",
        "\n",
        "fig = px.pie(df, values='Global_Sales', names='Genre',\n",
        "             color='Genre', title=' distribution of genres by global sales.')\n",
        "fig.update_traces(textposition='inside', textinfo='percent+label')\n",
        "fig.update_layout(uniformtext_minsize=14, uniformtext_mode='hide')\n",
        "fig.show()"
      ],
      "metadata": {
        "id": "VL4sC0j1WgMG"
      },
      "execution_count": null,
      "outputs": []
    }
  ]
}