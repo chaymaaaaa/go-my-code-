{
  "nbformat": 4,
  "nbformat_minor": 0,
  "metadata": {
    "colab": {
      "provenance": [],
      "authorship_tag": "ABX9TyM77DjidQupsKJ4RR+vnRpA",
      "include_colab_link": true
    },
    "kernelspec": {
      "name": "python3",
      "display_name": "Python 3"
    },
    "language_info": {
      "name": "python"
    }
  },
  "cells": [
    {
      "cell_type": "markdown",
      "metadata": {
        "id": "view-in-github",
        "colab_type": "text"
      },
      "source": [
        "<a href=\"https://colab.research.google.com/github/chaymaaaaa/go-my-code-/blob/main/Untitled7.ipynb\" target=\"_parent\"><img src=\"https://colab.research.google.com/assets/colab-badge.svg\" alt=\"Open In Colab\"/></a>"
      ]
    },
    {
      "cell_type": "code",
      "execution_count": null,
      "metadata": {
        "id": "-OuCLSPQDBBk"
      },
      "outputs": [],
      "source": [
        "import numpy as np\n",
        "def array_operations(array1, array2):\n",
        "  addition_result = array1 + array2\n",
        "  substraction_result = array2 - array1\n",
        "  multiplication_result = array1 * array2\n",
        "  division_result =\n",
        "\n",
        "\n",
        "  mean_value = np.mean(arr1)\n",
        "  mean_rounded = round(mean_value, 2)\n",
        "  max_value = np.max(array2)\n",
        "  return addition_result, substraction_result, multiplication_result, division_result, mean_rounded, mean_value\n",
        "\n"
      ]
    }
  ]
}